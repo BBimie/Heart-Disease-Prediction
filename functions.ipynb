{
 "cells": [
  {
   "cell_type": "markdown",
   "metadata": {},
   "source": [
    " # Train/ Test Split Function\n",
    " \n",
    " This notebook contains the functions for creating three different proporyions of dataset split;\n",
    " \n",
    " 1. 80% train data and 20% test data\n",
    " 2. 75% train data and 25% test data\n",
    " 3. 70% train data and 30% test data"
   ]
  },
  {
   "cell_type": "code",
   "execution_count": 1,
   "metadata": {},
   "outputs": [],
   "source": [
    "import pandas as pd\n",
    "import matplotlib.pyplot as plt\n",
    "import seaborn as sns"
   ]
  },
  {
   "cell_type": "code",
   "execution_count": 2,
   "metadata": {},
   "outputs": [],
   "source": [
    "from sklearn.linear_model import LogisticRegression\n",
    "\n",
    "from sklearn.model_selection import StratifiedShuffleSplit\n",
    "from sklearn.metrics import confusion_matrix, accuracy_score"
   ]
  },
  {
   "cell_type": "code",
   "execution_count": 3,
   "metadata": {},
   "outputs": [],
   "source": [
    "#intialize model\n",
    "lr = LogisticRegression()"
   ]
  },
  {
   "cell_type": "code",
   "execution_count": 7,
   "metadata": {},
   "outputs": [],
   "source": [
    "def predict_80_20(df, target):\n",
    "    split = StratifiedShuffleSplit(n_splits = 1, test_size=0.2, random_state=42)\n",
    "    for train_index, test_index in split.split(df, df[target]):\n",
    "        train = df.loc[train_index]\n",
    "        test = df.loc[test_index]\n",
    "        \n",
    "        x = train.drop([target], axis=1)\n",
    "        y = train[target]\n",
    "        \n",
    "        a = test.drop([target], axis=1)\n",
    "        b = test[target]\n",
    "        \n",
    "        lr.fit(x,y)\n",
    "        \n",
    "        predicted = lr.predict(a)\n",
    "        accuracy = accuracy_score(b, predicted)\n",
    "        c_m = confusion_matrix(b, predicted)\n",
    "        \n",
    "        return print('Accuracy score: ', accuracy, '\\n', 'Confusion matrix: ', c_m)"
   ]
  },
  {
   "cell_type": "code",
   "execution_count": 8,
   "metadata": {},
   "outputs": [],
   "source": [
    "def predict_70_30(df, target):\n",
    "    split = StratifiedShuffleSplit(n_splits = 1, test_size=0.3, random_state=42)\n",
    "    for train_index, test_index in split.split(df, df[target]):\n",
    "        train = df.loc[train_index]\n",
    "        test = df.loc[test_index]\n",
    "        \n",
    "        x = train.drop([target], axis=1)\n",
    "        y = train[target]\n",
    "        \n",
    "        a = test.drop([target], axis=1)\n",
    "        b = test[target]\n",
    "        \n",
    "        lr.fit(x,y)\n",
    "        \n",
    "        predicted = lr.predict(a)\n",
    "        accuracy = accuracy_score(b, predicted)\n",
    "        c_m = confusion_matrix(b, predicted)\n",
    "        \n",
    "        return print('Accuracy score: ', accuracy, '\\n', 'Confusion matrix: ', c_m)"
   ]
  },
  {
   "cell_type": "code",
   "execution_count": null,
   "metadata": {},
   "outputs": [],
   "source": [
    "def predict_75_25(df, target):\n",
    "    split = StratifiedShuffleSplit(n_splits = 1, test_size=0.3, random_state=42)\n",
    "    for train_index, test_index in split.split(df, df[target]):\n",
    "        train = df.loc[train_index]\n",
    "        test = df.loc[test_index]\n",
    "        \n",
    "        x = train.drop([target], axis=1)\n",
    "        y = train[target]\n",
    "        \n",
    "        a = test.drop([target], axis=1)\n",
    "        b = test[target]\n",
    "        \n",
    "        lr.fit(x,y)\n",
    "        \n",
    "        predicted = lr.predict(a)\n",
    "        accuracy = accuracy_score(b, predicted)\n",
    "        c_m = confusion_matrix(b, predicted)\n",
    "        \n",
    "        return print('Accuracy score: ', accuracy, '\\n', 'Confusion matrix: ', c_m)"
   ]
  }
 ],
 "metadata": {
  "kernelspec": {
   "display_name": "Python 3",
   "language": "python",
   "name": "python3"
  },
  "language_info": {
   "codemirror_mode": {
    "name": "ipython",
    "version": 3
   },
   "file_extension": ".py",
   "mimetype": "text/x-python",
   "name": "python",
   "nbconvert_exporter": "python",
   "pygments_lexer": "ipython3",
   "version": "3.7.3"
  }
 },
 "nbformat": 4,
 "nbformat_minor": 2
}
