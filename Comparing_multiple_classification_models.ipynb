{
 "cells": [
  {
   "cell_type": "code",
   "execution_count": 1,
   "metadata": {},
   "outputs": [],
   "source": [
    "import warnings\n",
    "warnings.filterwarnings('ignore')"
   ]
  },
  {
   "cell_type": "code",
   "execution_count": 2,
   "metadata": {},
   "outputs": [],
   "source": [
    "import pandas as pd\n",
    "import numpy as np\n",
    "import seaborn as sns\n",
    "import matplotlib.pyplot as plt\n",
    "\n",
    "from sklearn.model_selection import StratifiedShuffleSplit\n",
    "from sklearn.feature_selection import SelectKBest\n",
    "from sklearn.feature_selection import chi2\n",
    "from sklearn.preprocessing import MinMaxScaler\n",
    "from sklearn.utils import resample\n",
    "\n",
    "from sklearn.metrics import confusion_matrix, accuracy_score, recall_score, precision_score, roc_auc_score\n",
    "from sklearn.metrics import f1_score\n",
    "from sklearn.preprocessing import binarize"
   ]
  },
  {
   "cell_type": "code",
   "execution_count": 3,
   "metadata": {},
   "outputs": [],
   "source": [
    "from sklearn.model_selection import GridSearchCV\n",
    "\n",
    "from sklearn.linear_model import LogisticRegression\n",
    "from sklearn.neighbors import KNeighborsClassifier\n",
    "from sklearn.tree import DecisionTreeClassifier\n",
    "from sklearn.ensemble import RandomForestClassifier\n",
    "from sklearn.svm import SVC"
   ]
  },
  {
   "cell_type": "code",
   "execution_count": 4,
   "metadata": {},
   "outputs": [
    {
     "data": {
      "text/html": [
       "<div>\n",
       "<style scoped>\n",
       "    .dataframe tbody tr th:only-of-type {\n",
       "        vertical-align: middle;\n",
       "    }\n",
       "\n",
       "    .dataframe tbody tr th {\n",
       "        vertical-align: top;\n",
       "    }\n",
       "\n",
       "    .dataframe thead th {\n",
       "        text-align: right;\n",
       "    }\n",
       "</style>\n",
       "<table border=\"1\" class=\"dataframe\">\n",
       "  <thead>\n",
       "    <tr style=\"text-align: right;\">\n",
       "      <th></th>\n",
       "      <th>male</th>\n",
       "      <th>age</th>\n",
       "      <th>education</th>\n",
       "      <th>currentSmoker</th>\n",
       "      <th>cigsPerDay</th>\n",
       "      <th>BPMeds</th>\n",
       "      <th>prevalentStroke</th>\n",
       "      <th>prevalentHyp</th>\n",
       "      <th>diabetes</th>\n",
       "      <th>totChol</th>\n",
       "      <th>sysBP</th>\n",
       "      <th>diaBP</th>\n",
       "      <th>BMI</th>\n",
       "      <th>heartRate</th>\n",
       "      <th>glucose</th>\n",
       "      <th>TenYearCHD</th>\n",
       "    </tr>\n",
       "  </thead>\n",
       "  <tbody>\n",
       "    <tr>\n",
       "      <th>0</th>\n",
       "      <td>1</td>\n",
       "      <td>39</td>\n",
       "      <td>4.0</td>\n",
       "      <td>0</td>\n",
       "      <td>0.0</td>\n",
       "      <td>0.0</td>\n",
       "      <td>0</td>\n",
       "      <td>0</td>\n",
       "      <td>0</td>\n",
       "      <td>195.0</td>\n",
       "      <td>106.0</td>\n",
       "      <td>70.0</td>\n",
       "      <td>26.97</td>\n",
       "      <td>80.0</td>\n",
       "      <td>77.0</td>\n",
       "      <td>0</td>\n",
       "    </tr>\n",
       "    <tr>\n",
       "      <th>1</th>\n",
       "      <td>0</td>\n",
       "      <td>46</td>\n",
       "      <td>2.0</td>\n",
       "      <td>0</td>\n",
       "      <td>0.0</td>\n",
       "      <td>0.0</td>\n",
       "      <td>0</td>\n",
       "      <td>0</td>\n",
       "      <td>0</td>\n",
       "      <td>250.0</td>\n",
       "      <td>121.0</td>\n",
       "      <td>81.0</td>\n",
       "      <td>28.73</td>\n",
       "      <td>95.0</td>\n",
       "      <td>76.0</td>\n",
       "      <td>0</td>\n",
       "    </tr>\n",
       "    <tr>\n",
       "      <th>2</th>\n",
       "      <td>1</td>\n",
       "      <td>48</td>\n",
       "      <td>1.0</td>\n",
       "      <td>1</td>\n",
       "      <td>20.0</td>\n",
       "      <td>0.0</td>\n",
       "      <td>0</td>\n",
       "      <td>0</td>\n",
       "      <td>0</td>\n",
       "      <td>245.0</td>\n",
       "      <td>127.5</td>\n",
       "      <td>80.0</td>\n",
       "      <td>25.34</td>\n",
       "      <td>75.0</td>\n",
       "      <td>70.0</td>\n",
       "      <td>0</td>\n",
       "    </tr>\n",
       "    <tr>\n",
       "      <th>3</th>\n",
       "      <td>0</td>\n",
       "      <td>61</td>\n",
       "      <td>3.0</td>\n",
       "      <td>1</td>\n",
       "      <td>30.0</td>\n",
       "      <td>0.0</td>\n",
       "      <td>0</td>\n",
       "      <td>1</td>\n",
       "      <td>0</td>\n",
       "      <td>225.0</td>\n",
       "      <td>150.0</td>\n",
       "      <td>95.0</td>\n",
       "      <td>28.58</td>\n",
       "      <td>65.0</td>\n",
       "      <td>103.0</td>\n",
       "      <td>1</td>\n",
       "    </tr>\n",
       "    <tr>\n",
       "      <th>4</th>\n",
       "      <td>0</td>\n",
       "      <td>46</td>\n",
       "      <td>3.0</td>\n",
       "      <td>1</td>\n",
       "      <td>23.0</td>\n",
       "      <td>0.0</td>\n",
       "      <td>0</td>\n",
       "      <td>0</td>\n",
       "      <td>0</td>\n",
       "      <td>285.0</td>\n",
       "      <td>130.0</td>\n",
       "      <td>84.0</td>\n",
       "      <td>23.10</td>\n",
       "      <td>85.0</td>\n",
       "      <td>85.0</td>\n",
       "      <td>0</td>\n",
       "    </tr>\n",
       "  </tbody>\n",
       "</table>\n",
       "</div>"
      ],
      "text/plain": [
       "   male  age  education  currentSmoker  cigsPerDay  BPMeds  prevalentStroke  \\\n",
       "0     1   39        4.0              0         0.0     0.0                0   \n",
       "1     0   46        2.0              0         0.0     0.0                0   \n",
       "2     1   48        1.0              1        20.0     0.0                0   \n",
       "3     0   61        3.0              1        30.0     0.0                0   \n",
       "4     0   46        3.0              1        23.0     0.0                0   \n",
       "\n",
       "   prevalentHyp  diabetes  totChol  sysBP  diaBP    BMI  heartRate  glucose  \\\n",
       "0             0         0    195.0  106.0   70.0  26.97       80.0     77.0   \n",
       "1             0         0    250.0  121.0   81.0  28.73       95.0     76.0   \n",
       "2             0         0    245.0  127.5   80.0  25.34       75.0     70.0   \n",
       "3             1         0    225.0  150.0   95.0  28.58       65.0    103.0   \n",
       "4             0         0    285.0  130.0   84.0  23.10       85.0     85.0   \n",
       "\n",
       "   TenYearCHD  \n",
       "0           0  \n",
       "1           0  \n",
       "2           0  \n",
       "3           1  \n",
       "4           0  "
      ]
     },
     "execution_count": 4,
     "metadata": {},
     "output_type": "execute_result"
    }
   ],
   "source": [
    "heart = pd.read_csv('framingham.csv')\n",
    "heart.head()"
   ]
  },
  {
   "cell_type": "markdown",
   "metadata": {},
   "source": [
    "## Data Cleaning"
   ]
  },
  {
   "cell_type": "code",
   "execution_count": 5,
   "metadata": {},
   "outputs": [],
   "source": [
    "heart = heart.dropna()"
   ]
  },
  {
   "cell_type": "code",
   "execution_count": 6,
   "metadata": {},
   "outputs": [
    {
     "data": {
      "text/plain": [
       "male               0\n",
       "age                0\n",
       "education          0\n",
       "currentSmoker      0\n",
       "cigsPerDay         0\n",
       "BPMeds             0\n",
       "prevalentStroke    0\n",
       "prevalentHyp       0\n",
       "diabetes           0\n",
       "totChol            0\n",
       "sysBP              0\n",
       "diaBP              0\n",
       "BMI                0\n",
       "heartRate          0\n",
       "glucose            0\n",
       "TenYearCHD         0\n",
       "dtype: int64"
      ]
     },
     "execution_count": 6,
     "metadata": {},
     "output_type": "execute_result"
    }
   ],
   "source": [
    "heart.isnull().sum()"
   ]
  },
  {
   "cell_type": "code",
   "execution_count": 7,
   "metadata": {},
   "outputs": [],
   "source": [
    "x = heart.drop('TenYearCHD', axis=1)\n",
    "y = heart['TenYearCHD']"
   ]
  },
  {
   "cell_type": "code",
   "execution_count": 8,
   "metadata": {},
   "outputs": [
    {
     "data": {
      "text/plain": [
       "0    3099\n",
       "1     557\n",
       "Name: TenYearCHD, dtype: int64"
      ]
     },
     "execution_count": 8,
     "metadata": {},
     "output_type": "execute_result"
    }
   ],
   "source": [
    "heart['TenYearCHD'].value_counts()"
   ]
  },
  {
   "cell_type": "markdown",
   "metadata": {},
   "source": [
    "## Feature selection"
   ]
  },
  {
   "cell_type": "code",
   "execution_count": 9,
   "metadata": {},
   "outputs": [
    {
     "data": {
      "text/html": [
       "<div>\n",
       "<style scoped>\n",
       "    .dataframe tbody tr th:only-of-type {\n",
       "        vertical-align: middle;\n",
       "    }\n",
       "\n",
       "    .dataframe tbody tr th {\n",
       "        vertical-align: top;\n",
       "    }\n",
       "\n",
       "    .dataframe thead th {\n",
       "        text-align: right;\n",
       "    }\n",
       "</style>\n",
       "<table border=\"1\" class=\"dataframe\">\n",
       "  <thead>\n",
       "    <tr style=\"text-align: right;\">\n",
       "      <th></th>\n",
       "      <th>score</th>\n",
       "      <th>column</th>\n",
       "    </tr>\n",
       "  </thead>\n",
       "  <tbody>\n",
       "    <tr>\n",
       "      <th>10</th>\n",
       "      <td>669.506552</td>\n",
       "      <td>sysBP</td>\n",
       "    </tr>\n",
       "    <tr>\n",
       "      <th>14</th>\n",
       "      <td>379.583137</td>\n",
       "      <td>glucose</td>\n",
       "    </tr>\n",
       "    <tr>\n",
       "      <th>1</th>\n",
       "      <td>295.507761</td>\n",
       "      <td>age</td>\n",
       "    </tr>\n",
       "    <tr>\n",
       "      <th>9</th>\n",
       "      <td>249.153078</td>\n",
       "      <td>totChol</td>\n",
       "    </tr>\n",
       "    <tr>\n",
       "      <th>4</th>\n",
       "      <td>156.567318</td>\n",
       "      <td>cigsPerDay</td>\n",
       "    </tr>\n",
       "    <tr>\n",
       "      <th>11</th>\n",
       "      <td>142.878574</td>\n",
       "      <td>diaBP</td>\n",
       "    </tr>\n",
       "    <tr>\n",
       "      <th>7</th>\n",
       "      <td>82.967184</td>\n",
       "      <td>prevalentHyp</td>\n",
       "    </tr>\n",
       "    <tr>\n",
       "      <th>8</th>\n",
       "      <td>31.027987</td>\n",
       "      <td>diabetes</td>\n",
       "    </tr>\n",
       "    <tr>\n",
       "      <th>5</th>\n",
       "      <td>28.153003</td>\n",
       "      <td>BPMeds</td>\n",
       "    </tr>\n",
       "    <tr>\n",
       "      <th>0</th>\n",
       "      <td>17.120430</td>\n",
       "      <td>male</td>\n",
       "    </tr>\n",
       "  </tbody>\n",
       "</table>\n",
       "</div>"
      ],
      "text/plain": [
       "         score        column\n",
       "10  669.506552         sysBP\n",
       "14  379.583137       glucose\n",
       "1   295.507761           age\n",
       "9   249.153078       totChol\n",
       "4   156.567318    cigsPerDay\n",
       "11  142.878574         diaBP\n",
       "7    82.967184  prevalentHyp\n",
       "8    31.027987      diabetes\n",
       "5    28.153003        BPMeds\n",
       "0    17.120430          male"
      ]
     },
     "execution_count": 9,
     "metadata": {},
     "output_type": "execute_result"
    }
   ],
   "source": [
    "#extract the 10 best features\n",
    "features = SelectKBest(score_func=chi2, k=10)\n",
    "scores = features.fit(x,y).scores_\n",
    "columns = x.columns\n",
    "\n",
    "df = pd.DataFrame()\n",
    "df['score'] = scores\n",
    "df['column'] = columns\n",
    "\n",
    "best_feat = df.sort_values(by='score', ascending=False).head(10)\n",
    "best_feat"
   ]
  },
  {
   "cell_type": "code",
   "execution_count": 10,
   "metadata": {},
   "outputs": [
    {
     "data": {
      "text/plain": [
       "['sysBP',\n",
       " 'glucose',\n",
       " 'age',\n",
       " 'totChol',\n",
       " 'cigsPerDay',\n",
       " 'diaBP',\n",
       " 'prevalentHyp',\n",
       " 'diabetes',\n",
       " 'BPMeds',\n",
       " 'male']"
      ]
     },
     "execution_count": 10,
     "metadata": {},
     "output_type": "execute_result"
    }
   ],
   "source": [
    "best_features = list(best_feat['column'])\n",
    "\n",
    "best_features"
   ]
  },
  {
   "cell_type": "code",
   "execution_count": 11,
   "metadata": {},
   "outputs": [
    {
     "data": {
      "text/html": [
       "<div>\n",
       "<style scoped>\n",
       "    .dataframe tbody tr th:only-of-type {\n",
       "        vertical-align: middle;\n",
       "    }\n",
       "\n",
       "    .dataframe tbody tr th {\n",
       "        vertical-align: top;\n",
       "    }\n",
       "\n",
       "    .dataframe thead th {\n",
       "        text-align: right;\n",
       "    }\n",
       "</style>\n",
       "<table border=\"1\" class=\"dataframe\">\n",
       "  <thead>\n",
       "    <tr style=\"text-align: right;\">\n",
       "      <th></th>\n",
       "      <th>sysBP</th>\n",
       "      <th>glucose</th>\n",
       "      <th>age</th>\n",
       "      <th>totChol</th>\n",
       "      <th>cigsPerDay</th>\n",
       "      <th>diaBP</th>\n",
       "      <th>prevalentHyp</th>\n",
       "      <th>diabetes</th>\n",
       "      <th>BPMeds</th>\n",
       "      <th>male</th>\n",
       "      <th>TenYearCHD</th>\n",
       "    </tr>\n",
       "  </thead>\n",
       "  <tbody>\n",
       "    <tr>\n",
       "      <th>0</th>\n",
       "      <td>106.0</td>\n",
       "      <td>77.0</td>\n",
       "      <td>39</td>\n",
       "      <td>195.0</td>\n",
       "      <td>0.0</td>\n",
       "      <td>70.0</td>\n",
       "      <td>0</td>\n",
       "      <td>0</td>\n",
       "      <td>0.0</td>\n",
       "      <td>1</td>\n",
       "      <td>0</td>\n",
       "    </tr>\n",
       "    <tr>\n",
       "      <th>1</th>\n",
       "      <td>121.0</td>\n",
       "      <td>76.0</td>\n",
       "      <td>46</td>\n",
       "      <td>250.0</td>\n",
       "      <td>0.0</td>\n",
       "      <td>81.0</td>\n",
       "      <td>0</td>\n",
       "      <td>0</td>\n",
       "      <td>0.0</td>\n",
       "      <td>0</td>\n",
       "      <td>0</td>\n",
       "    </tr>\n",
       "    <tr>\n",
       "      <th>2</th>\n",
       "      <td>127.5</td>\n",
       "      <td>70.0</td>\n",
       "      <td>48</td>\n",
       "      <td>245.0</td>\n",
       "      <td>20.0</td>\n",
       "      <td>80.0</td>\n",
       "      <td>0</td>\n",
       "      <td>0</td>\n",
       "      <td>0.0</td>\n",
       "      <td>1</td>\n",
       "      <td>0</td>\n",
       "    </tr>\n",
       "    <tr>\n",
       "      <th>3</th>\n",
       "      <td>150.0</td>\n",
       "      <td>103.0</td>\n",
       "      <td>61</td>\n",
       "      <td>225.0</td>\n",
       "      <td>30.0</td>\n",
       "      <td>95.0</td>\n",
       "      <td>1</td>\n",
       "      <td>0</td>\n",
       "      <td>0.0</td>\n",
       "      <td>0</td>\n",
       "      <td>1</td>\n",
       "    </tr>\n",
       "    <tr>\n",
       "      <th>4</th>\n",
       "      <td>130.0</td>\n",
       "      <td>85.0</td>\n",
       "      <td>46</td>\n",
       "      <td>285.0</td>\n",
       "      <td>23.0</td>\n",
       "      <td>84.0</td>\n",
       "      <td>0</td>\n",
       "      <td>0</td>\n",
       "      <td>0.0</td>\n",
       "      <td>0</td>\n",
       "      <td>0</td>\n",
       "    </tr>\n",
       "  </tbody>\n",
       "</table>\n",
       "</div>"
      ],
      "text/plain": [
       "   sysBP  glucose  age  totChol  cigsPerDay  diaBP  prevalentHyp  diabetes  \\\n",
       "0  106.0     77.0   39    195.0         0.0   70.0             0         0   \n",
       "1  121.0     76.0   46    250.0         0.0   81.0             0         0   \n",
       "2  127.5     70.0   48    245.0        20.0   80.0             0         0   \n",
       "3  150.0    103.0   61    225.0        30.0   95.0             1         0   \n",
       "4  130.0     85.0   46    285.0        23.0   84.0             0         0   \n",
       "\n",
       "   BPMeds  male  TenYearCHD  \n",
       "0     0.0     1           0  \n",
       "1     0.0     0           0  \n",
       "2     0.0     1           0  \n",
       "3     0.0     0           1  \n",
       "4     0.0     0           0  "
      ]
     },
     "execution_count": 11,
     "metadata": {},
     "output_type": "execute_result"
    }
   ],
   "source": [
    "heart_new = heart[best_features]\n",
    "heart_new['TenYearCHD'] = y\n",
    "\n",
    "heart_new.head()"
   ]
  },
  {
   "cell_type": "code",
   "execution_count": 12,
   "metadata": {},
   "outputs": [],
   "source": [
    "corr = heart_new.corr()"
   ]
  },
  {
   "cell_type": "code",
   "execution_count": 13,
   "metadata": {},
   "outputs": [
    {
     "data": {
      "text/plain": [
       "<matplotlib.axes._subplots.AxesSubplot at 0x221c22b4358>"
      ]
     },
     "execution_count": 13,
     "metadata": {},
     "output_type": "execute_result"
    },
    {
     "data": {
      "image/png": "[encoded data removed]",
      "text/plain": [
       "<Figure size 864x576 with 2 Axes>"
      ]
     },
     "metadata": {
      "needs_background": "light"
     },
     "output_type": "display_data"
    }
   ],
   "source": [
    "fig,ax = plt.subplots(figsize=(12,8))\n",
    "sns.heatmap(corr, annot=True)"
   ]
  },
  {
   "cell_type": "markdown",
   "metadata": {},
   "source": [
    "## Feature Scaling\n",
    "I will be scaling my data because I'd be using different models that use distance measure between datapoints"
   ]
  },
  {
   "cell_type": "code",
   "execution_count": 14,
   "metadata": {},
   "outputs": [
    {
     "data": {
      "text/html": [
       "<div>\n",
       "<style scoped>\n",
       "    .dataframe tbody tr th:only-of-type {\n",
       "        vertical-align: middle;\n",
       "    }\n",
       "\n",
       "    .dataframe tbody tr th {\n",
       "        vertical-align: top;\n",
       "    }\n",
       "\n",
       "    .dataframe thead th {\n",
       "        text-align: right;\n",
       "    }\n",
       "</style>\n",
       "<table border=\"1\" class=\"dataframe\">\n",
       "  <thead>\n",
       "    <tr style=\"text-align: right;\">\n",
       "      <th></th>\n",
       "      <th>sysBP</th>\n",
       "      <th>glucose</th>\n",
       "      <th>age</th>\n",
       "      <th>totChol</th>\n",
       "      <th>cigsPerDay</th>\n",
       "      <th>diaBP</th>\n",
       "      <th>prevalentHyp</th>\n",
       "      <th>diabetes</th>\n",
       "      <th>BPMeds</th>\n",
       "      <th>male</th>\n",
       "      <th>TenYearCHD</th>\n",
       "    </tr>\n",
       "  </thead>\n",
       "  <tbody>\n",
       "    <tr>\n",
       "      <th>0</th>\n",
       "      <td>0.106383</td>\n",
       "      <td>0.104520</td>\n",
       "      <td>0.184211</td>\n",
       "      <td>0.168378</td>\n",
       "      <td>0.000000</td>\n",
       "      <td>0.232804</td>\n",
       "      <td>0.0</td>\n",
       "      <td>0.0</td>\n",
       "      <td>0.0</td>\n",
       "      <td>1.0</td>\n",
       "      <td>0.0</td>\n",
       "    </tr>\n",
       "    <tr>\n",
       "      <th>1</th>\n",
       "      <td>0.177305</td>\n",
       "      <td>0.101695</td>\n",
       "      <td>0.368421</td>\n",
       "      <td>0.281314</td>\n",
       "      <td>0.000000</td>\n",
       "      <td>0.349206</td>\n",
       "      <td>0.0</td>\n",
       "      <td>0.0</td>\n",
       "      <td>0.0</td>\n",
       "      <td>0.0</td>\n",
       "      <td>0.0</td>\n",
       "    </tr>\n",
       "    <tr>\n",
       "      <th>2</th>\n",
       "      <td>0.208038</td>\n",
       "      <td>0.084746</td>\n",
       "      <td>0.421053</td>\n",
       "      <td>0.271047</td>\n",
       "      <td>0.285714</td>\n",
       "      <td>0.338624</td>\n",
       "      <td>0.0</td>\n",
       "      <td>0.0</td>\n",
       "      <td>0.0</td>\n",
       "      <td>1.0</td>\n",
       "      <td>0.0</td>\n",
       "    </tr>\n",
       "    <tr>\n",
       "      <th>3</th>\n",
       "      <td>0.314421</td>\n",
       "      <td>0.177966</td>\n",
       "      <td>0.763158</td>\n",
       "      <td>0.229979</td>\n",
       "      <td>0.428571</td>\n",
       "      <td>0.497354</td>\n",
       "      <td>1.0</td>\n",
       "      <td>0.0</td>\n",
       "      <td>0.0</td>\n",
       "      <td>0.0</td>\n",
       "      <td>1.0</td>\n",
       "    </tr>\n",
       "    <tr>\n",
       "      <th>4</th>\n",
       "      <td>0.219858</td>\n",
       "      <td>0.127119</td>\n",
       "      <td>0.368421</td>\n",
       "      <td>0.353183</td>\n",
       "      <td>0.328571</td>\n",
       "      <td>0.380952</td>\n",
       "      <td>0.0</td>\n",
       "      <td>0.0</td>\n",
       "      <td>0.0</td>\n",
       "      <td>0.0</td>\n",
       "      <td>0.0</td>\n",
       "    </tr>\n",
       "  </tbody>\n",
       "</table>\n",
       "</div>"
      ],
      "text/plain": [
       "      sysBP   glucose       age   totChol  cigsPerDay     diaBP  prevalentHyp  \\\n",
       "0  0.106383  0.104520  0.184211  0.168378    0.000000  0.232804           0.0   \n",
       "1  0.177305  0.101695  0.368421  0.281314    0.000000  0.349206           0.0   \n",
       "2  0.208038  0.084746  0.421053  0.271047    0.285714  0.338624           0.0   \n",
       "3  0.314421  0.177966  0.763158  0.229979    0.428571  0.497354           1.0   \n",
       "4  0.219858  0.127119  0.368421  0.353183    0.328571  0.380952           0.0   \n",
       "\n",
       "   diabetes  BPMeds  male  TenYearCHD  \n",
       "0       0.0     0.0   1.0         0.0  \n",
       "1       0.0     0.0   0.0         0.0  \n",
       "2       0.0     0.0   1.0         0.0  \n",
       "3       0.0     0.0   0.0         1.0  \n",
       "4       0.0     0.0   0.0         0.0  "
      ]
     },
     "execution_count": 14,
     "metadata": {},
     "output_type": "execute_result"
    }
   ],
   "source": [
    "scaler = MinMaxScaler(feature_range=(0,1)) \n",
    "\n",
    "#assign scaler to column:\n",
    "heart_scaled = pd.DataFrame(scaler.fit_transform(heart_new), columns=heart_new.columns)\n",
    "\n",
    "heart_scaled.head()"
   ]
  },
  {
   "cell_type": "markdown",
   "metadata": {},
   "source": [
    "## Data splitting"
   ]
  },
  {
   "cell_type": "code",
   "execution_count": 15,
   "metadata": {},
   "outputs": [],
   "source": [
    "split = StratifiedShuffleSplit(n_splits = 1, test_size=0.2, random_state=42)\n",
    "for train_index, test_index in split.split(heart_scaled, heart_scaled['TenYearCHD']):\n",
    "    train = heart_scaled.loc[train_index]\n",
    "    test = heart_scaled.loc[test_index]\n",
    "    \n",
    "    x_test = test.drop(\"TenYearCHD\", axis=1)\n",
    "    y_test = test[\"TenYearCHD\"]"
   ]
  },
  {
   "cell_type": "markdown",
   "metadata": {},
   "source": [
    "## Sampling"
   ]
  },
  {
   "cell_type": "code",
   "execution_count": 16,
   "metadata": {},
   "outputs": [],
   "source": [
    "#Separate majority and minority classes\n",
    "majority = train[train[\"TenYearCHD\"] == 0]\n",
    "minority = train[train[\"TenYearCHD\"] == 1]"
   ]
  },
  {
   "cell_type": "code",
   "execution_count": 17,
   "metadata": {},
   "outputs": [],
   "source": [
    "#upsample minority data\n",
    "minority_upsampled = resample(minority,\n",
    "                              n_samples =2500,\n",
    "                              random_state=65)\n",
    "\n",
    "#combine with mojority dataframe\n",
    "upsampled = pd.concat([majority, minority_upsampled],axis=0)"
   ]
  },
  {
   "cell_type": "code",
   "execution_count": 18,
   "metadata": {},
   "outputs": [],
   "source": [
    "#downsample majority data\n",
    "majority_downsampled = resample(majority,\n",
    "                                n_samples=511,\n",
    "                                random_state=65)\n",
    "\n",
    "downsampled = pd.concat([minority,majority_downsampled],axis=0)"
   ]
  },
  {
   "cell_type": "code",
   "execution_count": 19,
   "metadata": {},
   "outputs": [
    {
     "name": "stdout",
     "output_type": "stream",
     "text": [
      "Upsampled data:  \n",
      " 1.0    2500\n",
      "0.0    2479\n",
      "Name: TenYearCHD, dtype: int64\n",
      "-----\n",
      "Downsampled data:  \n",
      " 0.0    511\n",
      "1.0    445\n",
      "Name: TenYearCHD, dtype: int64\n"
     ]
    }
   ],
   "source": [
    "print('Upsampled data: ', '\\n', upsampled['TenYearCHD'].value_counts())\n",
    "print('-----')\n",
    "print('Downsampled data: ', '\\n', downsampled['TenYearCHD'].value_counts())"
   ]
  },
  {
   "cell_type": "code",
   "execution_count": 20,
   "metadata": {},
   "outputs": [
    {
     "name": "stdout",
     "output_type": "stream",
     "text": [
      "Initial train set:  \n",
      " 0.0    2479\n",
      "1.0     445\n",
      "Name: TenYearCHD, dtype: int64\n"
     ]
    }
   ],
   "source": [
    "print('Initial train set: ', '\\n', train['TenYearCHD'].value_counts())"
   ]
  },
  {
   "cell_type": "code",
   "execution_count": 21,
   "metadata": {},
   "outputs": [],
   "source": [
    "#splitting dependent and independent variables\n",
    "downsampled_X = downsampled.drop('TenYearCHD', axis=1)\n",
    "downsampled_Y = downsampled['TenYearCHD']\n",
    "\n",
    "\n",
    "upsampled_X = upsampled.drop('TenYearCHD', axis=1)\n",
    "upsampled_Y = upsampled['TenYearCHD']"
   ]
  },
  {
   "cell_type": "markdown",
   "metadata": {},
   "source": [
    "## Upsampled data\n",
    "\n",
    "### Choosing the best hyperparameters"
   ]
  },
  {
   "cell_type": "code",
   "execution_count": 20,
   "metadata": {},
   "outputs": [
    {
     "name": "stdout",
     "output_type": "stream",
     "text": [
      "0.9297010981551962\n",
      "{'algorithm': 'brute', 'n_neighbors': 1, 'p': 2, 'weights': 'distance'}\n"
     ]
    }
   ],
   "source": [
    "#knn\n",
    "hyperparameters = {\n",
    "    \"n_neighbors\": range(1,20,2),\n",
    "    \"weights\": [\"distance\", \"uniform\"],\n",
    "    \"algorithm\": ['brute'],\n",
    "    \"p\": [1,2, 3]\n",
    "}\n",
    "\n",
    "knn = KNeighborsClassifier()\n",
    "grid = GridSearchCV(knn,param_grid=hyperparameters,cv=10)\n",
    "\n",
    "grid.fit(upsampled_X, upsampled_Y)\n",
    "\n",
    "best_params = grid.best_params_\n",
    "best_score = grid.best_score_\n",
    "\n",
    "print(best_score)\n",
    "print(best_params)"
   ]
  },
  {
   "cell_type": "code",
   "execution_count": 21,
   "metadata": {},
   "outputs": [
    {
     "name": "stdout",
     "output_type": "stream",
     "text": [
      "0.679646958053542\n",
      "{'C': 0.5, 'max_iter': 100, 'solver': 'liblinear'}\n"
     ]
    }
   ],
   "source": [
    "#lr\n",
    "hyperparameters = {\n",
    "    \"max_iter\": range(100,200,2),\n",
    "    \"solver\" : ['newton-cg', 'lbfgs', 'liblinear'],\n",
    "    \"C\": [0.5, 0.1, 1.0]\n",
    "}\n",
    "\n",
    "lr = LogisticRegression()\n",
    "grid = GridSearchCV(lr,param_grid=hyperparameters,cv=10)\n",
    "\n",
    "grid.fit(upsampled_X, upsampled_Y)\n",
    "\n",
    "best_params = grid.best_params_\n",
    "best_score = grid.best_score_\n",
    "\n",
    "print(best_score)\n",
    "print(best_params)"
   ]
  },
  {
   "cell_type": "code",
   "execution_count": 22,
   "metadata": {},
   "outputs": [
    {
     "name": "stdout",
     "output_type": "stream",
     "text": [
      "0.854583323232568\n",
      "{'max_depth': 9, 'min_samples_leaf': 1, 'min_samples_split': 2, 'n_estimators': 130}\n"
     ]
    }
   ],
   "source": [
    "#randomforest\n",
    "hyperparameters = {\n",
    "    \"n_estimators\": range(100,151,10), \n",
    "    \"max_depth\": [2,3,4,5,7,9],\n",
    "    'min_samples_split' : [2, 4, 5],\n",
    "    'min_samples_leaf' :[1,2,3,4,5]\n",
    "}\n",
    "\n",
    "clf = RandomForestClassifier()\n",
    "grid = GridSearchCV(clf,param_grid=hyperparameters,cv=10)\n",
    "\n",
    "grid.fit(upsampled_X, upsampled_Y)\n",
    "\n",
    "best_params = grid.best_params_\n",
    "best_score = grid.best_score_\n",
    "\n",
    "print(best_score)\n",
    "print(best_params)"
   ]
  },
  {
   "cell_type": "code",
   "execution_count": 23,
   "metadata": {},
   "outputs": [
    {
     "name": "stdout",
     "output_type": "stream",
     "text": [
      "0.896568164004105\n",
      "{'max_depth': 15, 'max_features': 6, 'min_samples_leaf': 1}\n"
     ]
    }
   ],
   "source": [
    "#tree\n",
    "hyperparameters = {\n",
    "    \"max_depth\": [2,4,7,9,10,12,15],\n",
    "    'min_samples_leaf' :[1,2,3,4,5],\n",
    "    'max_features' :[2, 4, 6]\n",
    "}\n",
    "\n",
    "tree = DecisionTreeClassifier()\n",
    "grid = GridSearchCV(tree,param_grid=hyperparameters,cv=10)\n",
    "\n",
    "grid.fit(upsampled_X, upsampled_Y)\n",
    "\n",
    "best_params = grid.best_params_\n",
    "best_score = grid.best_score_\n",
    "\n",
    "print(best_score)\n",
    "print(best_params)"
   ]
  },
  {
   "cell_type": "code",
   "execution_count": 24,
   "metadata": {},
   "outputs": [
    {
     "name": "stdout",
     "output_type": "stream",
     "text": [
      "0.6842674521021712\n",
      "{'C': 1.0, 'degree': 1, 'gamma': 'scale', 'kernel': 'rbf'}\n"
     ]
    }
   ],
   "source": [
    "#svc\n",
    "hyperparameters = {\n",
    "    'C' : [1.0], \n",
    "    'kernel' : ['rbf', 'linear'],\n",
    "    'degree' :[1,2,3], \n",
    "    'gamma' : ['scale', 'auto']\n",
    "}\n",
    "\n",
    "svc = SVC()\n",
    "grid = GridSearchCV(svc,param_grid=hyperparameters,cv=10)\n",
    "\n",
    "grid.fit(upsampled_X, upsampled_Y)\n",
    "\n",
    "best_params = grid.best_params_\n",
    "best_score = grid.best_score_\n",
    "\n",
    "print(best_score)\n",
    "print(best_params)"
   ]
  },
  {
   "cell_type": "markdown",
   "metadata": {},
   "source": [
    "### Modelling"
   ]
  },
  {
   "cell_type": "code",
   "execution_count": 29,
   "metadata": {},
   "outputs": [],
   "source": [
    "knn = KNeighborsClassifier(algorithm ='brute', n_neighbors= 1, p= 1, weights ='distance')\n",
    "lr = LogisticRegression(C=0.5, max_iter = 100, solver = 'liblinear')\n",
    "tree = DecisionTreeClassifier(max_depth =15, max_features = 6, min_samples_leaf = 1)\n",
    "clf = RandomForestClassifier(max_depth = 9, min_samples_leaf =1, min_samples_split =2, n_estimators =150)\n",
    "svc = SVC(C =1.0, degree =1, gamma = 'scale', kernel = 'rbf', probability=True)"
   ]
  },
  {
   "cell_type": "code",
   "execution_count": 30,
   "metadata": {},
   "outputs": [
    {
     "data": {
      "text/plain": [
       "RandomForestClassifier(bootstrap=True, ccp_alpha=0.0, class_weight=None,\n",
       "                       criterion='gini', max_depth=9, max_features='auto',\n",
       "                       max_leaf_nodes=None, max_samples=None,\n",
       "                       min_impurity_decrease=0.0, min_impurity_split=None,\n",
       "                       min_samples_leaf=1, min_samples_split=2,\n",
       "                       min_weight_fraction_leaf=0.0, n_estimators=150,\n",
       "                       n_jobs=None, oob_score=False, random_state=None,\n",
       "                       verbose=0, warm_start=False)"
      ]
     },
     "execution_count": 30,
     "metadata": {},
     "output_type": "execute_result"
    }
   ],
   "source": [
    "lr.fit(upsampled_X, upsampled_Y)\n",
    "knn.fit(upsampled_X, upsampled_Y)\n",
    "svc.fit(upsampled_X, upsampled_Y)\n",
    "tree.fit(upsampled_X, upsampled_Y)\n",
    "clf.fit(upsampled_X, upsampled_Y)"
   ]
  },
  {
   "cell_type": "markdown",
   "metadata": {},
   "source": [
    "#### Accuracy"
   ]
  },
  {
   "cell_type": "code",
   "execution_count": 31,
   "metadata": {},
   "outputs": [
    {
     "name": "stdout",
     "output_type": "stream",
     "text": [
      "Logistic Regression:  0.6857923497267759\n",
      "KNN:  0.7773224043715847\n",
      "Decision Tree:  0.75\n",
      "Random Forest:  0.7513661202185792\n",
      "SVC:  0.6967213114754098\n"
     ]
    }
   ],
   "source": [
    "print('Logistic Regression: ', accuracy_score(y_test, lr.predict(x_test)))\n",
    "print('KNN: ', accuracy_score(y_test, knn.predict(x_test)))\n",
    "print('Decision Tree: ', accuracy_score(y_test, tree.predict(x_test)))\n",
    "print('Random Forest: ', accuracy_score(y_test, clf.predict(x_test)))\n",
    "print('SVC: ', accuracy_score(y_test, svc.predict(x_test)))"
   ]
  },
  {
   "cell_type": "markdown",
   "metadata": {},
   "source": [
    "#### Recall"
   ]
  },
  {
   "cell_type": "code",
   "execution_count": 32,
   "metadata": {},
   "outputs": [
    {
     "name": "stdout",
     "output_type": "stream",
     "text": [
      "Logistic Regression:  0.6696428571428571\n",
      "KNN:  0.19642857142857142\n",
      "Decision Tree:  0.3482142857142857\n",
      "Random Forest:  0.45535714285714285\n",
      "SVC:  0.6071428571428571\n"
     ]
    }
   ],
   "source": [
    "print('Logistic Regression: ', recall_score(y_test, lr.predict(x_test)))\n",
    "print('KNN: ', recall_score(y_test, knn.predict(x_test)))\n",
    "print('Decision Tree: ', recall_score(y_test, tree.predict(x_test)))\n",
    "print('Random Forest: ', recall_score(y_test, clf.predict(x_test)))\n",
    "print('SVC: ', recall_score(y_test, svc.predict(x_test)))\n"
   ]
  },
  {
   "cell_type": "markdown",
   "metadata": {},
   "source": [
    "#### Precision"
   ]
  },
  {
   "cell_type": "code",
   "execution_count": 33,
   "metadata": {},
   "outputs": [
    {
     "name": "stdout",
     "output_type": "stream",
     "text": [
      "Logistic Regression:  0.2798507462686567\n",
      "KNN:  0.23157894736842105\n",
      "Decision Tree:  0.26174496644295303\n",
      "Random Forest:  0.29651162790697677\n",
      "SVC:  0.2764227642276423\n"
     ]
    }
   ],
   "source": [
    "print('Logistic Regression: ', precision_score(y_test, lr.predict(x_test)))\n",
    "print('KNN: ', precision_score(y_test, knn.predict(x_test)))\n",
    "print('Decision Tree: ', precision_score(y_test, tree.predict(x_test)))\n",
    "print('Random Forest: ', precision_score(y_test, clf.predict(x_test)))\n",
    "print('SVC: ', precision_score(y_test, svc.predict(x_test)))"
   ]
  },
  {
   "cell_type": "markdown",
   "metadata": {},
   "source": [
    "#### F1"
   ]
  },
  {
   "cell_type": "code",
   "execution_count": 34,
   "metadata": {},
   "outputs": [
    {
     "name": "stdout",
     "output_type": "stream",
     "text": [
      "Logistic Regression:  0.39473684210526316\n",
      "KNN:  0.21256038647342995\n",
      "Decision Tree:  0.29885057471264365\n",
      "Random Forest:  0.35915492957746475\n",
      "SVC:  0.3798882681564245\n"
     ]
    }
   ],
   "source": [
    "print('Logistic Regression: ', f1_score(y_test, lr.predict(x_test)))\n",
    "print('KNN: ', f1_score(y_test, knn.predict(x_test)))\n",
    "print('Decision Tree: ', f1_score(y_test, tree.predict(x_test)))\n",
    "print('Random Forest: ', f1_score(y_test, clf.predict(x_test)))\n",
    "print('SVC: ', f1_score(y_test, svc.predict(x_test)))\n"
   ]
  },
  {
   "cell_type": "markdown",
   "metadata": {},
   "source": [
    "#### CONFUSION MATRIX"
   ]
  },
  {
   "cell_type": "code",
   "execution_count": 35,
   "metadata": {},
   "outputs": [
    {
     "name": "stdout",
     "output_type": "stream",
     "text": [
      "Logistic Regression:  [[427 193]\n",
      " [ 37  75]]\n",
      "---------\n",
      "KNN:  [[547  73]\n",
      " [ 90  22]]\n",
      "---------\n",
      "Decision Tree:  [[510 110]\n",
      " [ 73  39]]\n",
      "---------\n",
      "Random Forest:  [[499 121]\n",
      " [ 61  51]]\n",
      "---------\n",
      "SVC:  [[442 178]\n",
      " [ 44  68]]\n"
     ]
    }
   ],
   "source": [
    "print('Logistic Regression: ', confusion_matrix(y_test, lr.predict(x_test)))\n",
    "print('---------')\n",
    "print('KNN: ', confusion_matrix(y_test, knn.predict(x_test)))\n",
    "print('---------')\n",
    "print('Decision Tree: ', confusion_matrix(y_test, tree.predict(x_test)))\n",
    "print('---------')\n",
    "print('Random Forest: ', confusion_matrix(y_test, clf.predict(x_test)))\n",
    "print('---------')\n",
    "print('SVC: ', confusion_matrix(y_test, svc.predict(x_test)))"
   ]
  },
  {
   "cell_type": "markdown",
   "metadata": {},
   "source": [
    "<b>Threshold Tweaking</b>\n",
    "\n",
    "Classification algorithms use probability measures to predict labels. In a binary classification, the algorithm picks the class with the highest probability. By reducing the probability threshold, the chances of the minority class being chosen increases."
   ]
  },
  {
   "cell_type": "code",
   "execution_count": 36,
   "metadata": {},
   "outputs": [
    {
     "name": "stdout",
     "output_type": "stream",
     "text": [
      "With 0.1 threshold the Confusion Matrix is  \n",
      " [[  1 619]\n",
      " [  1 111]] \n",
      " with 112 correct predictions and 1 False Negatives \n",
      "\n",
      " Recall:  0.9910714285714286 \n",
      " Precision:  0.15205479452054796 \n",
      " AUC is : 0.4963421658986175 \n",
      " Accuracy is : 0.15300546448087432 \n",
      "\n",
      "\n",
      "\n",
      "With 0.2 threshold the Confusion Matrix is  \n",
      " [[ 80 540]\n",
      " [  4 108]] \n",
      " with 188 correct predictions and 4 False Negatives \n",
      "\n",
      " Recall:  0.9642857142857143 \n",
      " Precision:  0.16666666666666666 \n",
      " AUC is : 0.5466589861751152 \n",
      " Accuracy is : 0.2568306010928962 \n",
      "\n",
      "\n",
      "\n",
      "With 0.3 threshold the Confusion Matrix is  \n",
      " [[196 424]\n",
      " [ 10 102]] \n",
      " with 298 correct predictions and 10 False Negatives \n",
      "\n",
      " Recall:  0.9107142857142857 \n",
      " Precision:  0.19391634980988592 \n",
      " AUC is : 0.6134216589861751 \n",
      " Accuracy is : 0.40710382513661203 \n",
      "\n",
      "\n",
      "\n",
      "With 0.4 threshold the Confusion Matrix is  \n",
      " [[317 303]\n",
      " [ 20  92]] \n",
      " with 409 correct predictions and 20 False Negatives \n",
      "\n",
      " Recall:  0.8214285714285714 \n",
      " Precision:  0.23291139240506328 \n",
      " AUC is : 0.6663594470046083 \n",
      " Accuracy is : 0.5587431693989071 \n",
      "\n",
      "\n",
      "\n",
      "With 0.5 threshold the Confusion Matrix is  \n",
      " [[427 193]\n",
      " [ 37  75]] \n",
      " with 502 correct predictions and 37 False Negatives \n",
      "\n",
      " Recall:  0.6696428571428571 \n",
      " Precision:  0.2798507462686567 \n",
      " AUC is : 0.679176267281106 \n",
      " Accuracy is : 0.6857923497267759 \n",
      "\n",
      "\n",
      "\n"
     ]
    }
   ],
   "source": [
    "for i in range(1,6):\n",
    "    cm2=0\n",
    "    y_pred_prob_yes=lr.predict_proba(x_test)\n",
    "    y_pred2=binarize(y_pred_prob_yes,i/10)[:,1]\n",
    "    cm2=confusion_matrix(y_test,y_pred2)\n",
    "    print ('With',i/10,'threshold the Confusion Matrix is ','\\n',cm2,'\\n',\n",
    "            'with',cm2[0,0]+cm2[1,1],'correct predictions and',cm2[1,0],\n",
    "           'False Negatives','\\n\\n',\n",
    "          'Recall: ',recall_score(y_test, y_pred2),'\\n', \n",
    "           'Precision: ',\n",
    "           precision_score(y_test, y_pred2), '\\n', 'AUC is :', roc_auc_score(y_test, y_pred2), '\\n',\n",
    "           'Accuracy is :', accuracy_score(y_test, y_pred2),'\\n\\n\\n')"
   ]
  },
  {
   "cell_type": "markdown",
   "metadata": {},
   "source": [
    "## Downsampled data\n",
    "\n",
    "### Choosing the best hyperparameters"
   ]
  },
  {
   "cell_type": "code",
   "execution_count": 34,
   "metadata": {},
   "outputs": [
    {
     "name": "stdout",
     "output_type": "stream",
     "text": [
      "0.6746929824561403\n",
      "{'algorithm': 'brute', 'n_neighbors': 19, 'p': 3, 'weights': 'distance'}\n"
     ]
    }
   ],
   "source": [
    "#knn\n",
    "hyperparameters = {\n",
    "    \"n_neighbors\": range(1,20,2),\n",
    "    \"weights\": [\"distance\", \"uniform\"],\n",
    "    \"algorithm\": ['brute'],\n",
    "    \"p\": [1,2, 3]\n",
    "}\n",
    "\n",
    "knn = KNeighborsClassifier()\n",
    "grid = GridSearchCV(knn,param_grid=hyperparameters,cv=10)\n",
    "\n",
    "grid.fit(downsampled_X, downsampled_Y)\n",
    "\n",
    "best_params = grid.best_params_\n",
    "best_score = grid.best_score_\n",
    "\n",
    "print(best_score)\n",
    "print(best_params)"
   ]
  },
  {
   "cell_type": "code",
   "execution_count": 35,
   "metadata": {},
   "outputs": [
    {
     "name": "stdout",
     "output_type": "stream",
     "text": [
      "0.6799561403508771\n",
      "{'C': 1.0, 'max_iter': 100, 'solver': 'newton-cg'}\n"
     ]
    }
   ],
   "source": [
    "#lr\n",
    "hyperparameters = {\n",
    "    \"max_iter\": range(100,200,2),\n",
    "    \"solver\" : ['newton-cg', 'lbfgs', 'liblinear'],\n",
    "    \"C\": [0.5, 0.1, 1.0]\n",
    "}\n",
    "\n",
    "lr = LogisticRegression()\n",
    "grid = GridSearchCV(lr,param_grid=hyperparameters,cv=10)\n",
    "\n",
    "grid.fit(downsampled_X, downsampled_Y)\n",
    "\n",
    "best_params = grid.best_params_\n",
    "best_score = grid.best_score_\n",
    "\n",
    "print(best_score)\n",
    "print(best_params)"
   ]
  },
  {
   "cell_type": "code",
   "execution_count": 36,
   "metadata": {},
   "outputs": [
    {
     "name": "stdout",
     "output_type": "stream",
     "text": [
      "0.6777741228070175\n",
      "{'max_depth': 9, 'min_samples_leaf': 2, 'min_samples_split': 2, 'n_estimators': 100}\n"
     ]
    }
   ],
   "source": [
    "#randomforest\n",
    "hyperparameters = {\n",
    "    \"n_estimators\": range(100,151,10), \n",
    "    \"max_depth\": [2,3,4,5,7,9],\n",
    "    'min_samples_split' : [2, 4, 5],\n",
    "    'min_samples_leaf' :[1,2,3,4,5]\n",
    "}\n",
    "\n",
    "clf = RandomForestClassifier()\n",
    "grid = GridSearchCV(clf,param_grid=hyperparameters,cv=10)\n",
    "\n",
    "grid.fit(downsampled_X, downsampled_Y)\n",
    "\n",
    "best_params = grid.best_params_\n",
    "best_score = grid.best_score_\n",
    "\n",
    "print(best_score)\n",
    "print(best_params)"
   ]
  },
  {
   "cell_type": "code",
   "execution_count": 37,
   "metadata": {},
   "outputs": [
    {
     "name": "stdout",
     "output_type": "stream",
     "text": [
      "0.6526864035087719\n",
      "{'max_depth': 4, 'max_features': 6, 'min_samples_leaf': 5}\n"
     ]
    }
   ],
   "source": [
    "#tree\n",
    "hyperparameters = {\n",
    "    \"max_depth\": [2,4,7,9,10,12,15],\n",
    "    'min_samples_leaf' :[1,2,3,4,5],\n",
    "    'max_features' :[2, 4, 6]\n",
    "}\n",
    "\n",
    "tree = DecisionTreeClassifier()\n",
    "grid = GridSearchCV(tree,param_grid=hyperparameters,cv=10)\n",
    "\n",
    "grid.fit(downsampled_X, downsampled_Y)\n",
    "\n",
    "best_params = grid.best_params_\n",
    "best_score = grid.best_score_\n",
    "\n",
    "print(best_score)\n",
    "print(best_params)"
   ]
  },
  {
   "cell_type": "code",
   "execution_count": 38,
   "metadata": {},
   "outputs": [
    {
     "name": "stdout",
     "output_type": "stream",
     "text": [
      "0.6684100877192982\n",
      "{'C': 1.0, 'degree': 1, 'gamma': 'scale', 'kernel': 'rbf'}\n"
     ]
    }
   ],
   "source": [
    "#svc\n",
    "hyperparameters = {\n",
    "    'C' : [1.0], \n",
    "    'kernel' : ['rbf', 'linear'],\n",
    "    'degree' :[1,2,3], \n",
    "    'gamma' : ['scale', 'auto']\n",
    "}\n",
    "\n",
    "svc = SVC()\n",
    "grid = GridSearchCV(svc,param_grid=hyperparameters,cv=10)\n",
    "\n",
    "grid.fit(downsampled_X, downsampled_Y)\n",
    "\n",
    "best_params = grid.best_params_\n",
    "best_score = grid.best_score_\n",
    "\n",
    "print(best_score)\n",
    "print(best_params)"
   ]
  },
  {
   "cell_type": "markdown",
   "metadata": {},
   "source": [
    "### Modeling"
   ]
  },
  {
   "cell_type": "code",
   "execution_count": 39,
   "metadata": {},
   "outputs": [],
   "source": [
    "knn = KNeighborsClassifier(algorithm = 'brute', n_neighbors = 19, p = 1, weights = 'distance')\n",
    "lr = LogisticRegression(C= 0.5, max_iter = 100, solver = 'liblinear')\n",
    "tree = DecisionTreeClassifier(max_depth = 4, max_features = 6, min_samples_leaf =2)\n",
    "clf = RandomForestClassifier(max_depth =9, min_samples_leaf= 1, min_samples_split =5, n_estimators =110)\n",
    "svc = SVC(C = 1.0, degree = 1, gamma = 'scale', kernel = 'rbf', probability=True)"
   ]
  },
  {
   "cell_type": "code",
   "execution_count": 40,
   "metadata": {},
   "outputs": [
    {
     "data": {
      "text/plain": [
       "RandomForestClassifier(bootstrap=True, ccp_alpha=0.0, class_weight=None,\n",
       "                       criterion='gini', max_depth=9, max_features='auto',\n",
       "                       max_leaf_nodes=None, max_samples=None,\n",
       "                       min_impurity_decrease=0.0, min_impurity_split=None,\n",
       "                       min_samples_leaf=1, min_samples_split=5,\n",
       "                       min_weight_fraction_leaf=0.0, n_estimators=110,\n",
       "                       n_jobs=None, oob_score=False, random_state=None,\n",
       "                       verbose=0, warm_start=False)"
      ]
     },
     "execution_count": 40,
     "metadata": {},
     "output_type": "execute_result"
    }
   ],
   "source": [
    "lr.fit(downsampled_X, downsampled_Y)\n",
    "knn.fit(downsampled_X, downsampled_Y)\n",
    "svc.fit(downsampled_X, downsampled_Y)\n",
    "tree.fit(downsampled_X, downsampled_Y)\n",
    "clf.fit(downsampled_X, downsampled_Y)"
   ]
  },
  {
   "cell_type": "markdown",
   "metadata": {},
   "source": [
    "#### Accuracy"
   ]
  },
  {
   "cell_type": "code",
   "execution_count": 41,
   "metadata": {},
   "outputs": [
    {
     "name": "stdout",
     "output_type": "stream",
     "text": [
      "Logistic Regression:  0.7308743169398907\n",
      "KNN:  0.7213114754098361\n",
      "Decision Tree:  0.7418032786885246\n",
      "Random Forest:  0.6912568306010929\n",
      "SVC:  0.7418032786885246\n"
     ]
    }
   ],
   "source": [
    "print('Logistic Regression: ', accuracy_score(y_test, lr.predict(x_test)))\n",
    "print('KNN: ', accuracy_score(y_test, knn.predict(x_test)))\n",
    "print('Decision Tree: ', accuracy_score(y_test, tree.predict(x_test)))\n",
    "print('Random Forest: ', accuracy_score(y_test, clf.predict(x_test)))\n",
    "print('SVC: ', accuracy_score(y_test, svc.predict(x_test)))"
   ]
  },
  {
   "cell_type": "markdown",
   "metadata": {},
   "source": [
    "#### Recall"
   ]
  },
  {
   "cell_type": "code",
   "execution_count": 42,
   "metadata": {},
   "outputs": [
    {
     "name": "stdout",
     "output_type": "stream",
     "text": [
      "Logistic Regression:  0.6607142857142857\n",
      "KNN:  0.5803571428571429\n",
      "Decision Tree:  0.4017857142857143\n",
      "Random Forest:  0.5178571428571429\n",
      "SVC:  0.5803571428571429\n"
     ]
    }
   ],
   "source": [
    "print('Logistic Regression: ', recall_score(y_test, lr.predict(x_test)))\n",
    "print('KNN: ', recall_score(y_test, knn.predict(x_test)))\n",
    "print('Decision Tree: ', recall_score(y_test, tree.predict(x_test)))\n",
    "print('Random Forest: ', recall_score(y_test, clf.predict(x_test)))\n",
    "print('SVC: ', recall_score(y_test, svc.predict(x_test)))"
   ]
  },
  {
   "cell_type": "markdown",
   "metadata": {},
   "source": [
    "#### Precision"
   ]
  },
  {
   "cell_type": "code",
   "execution_count": 43,
   "metadata": {},
   "outputs": [
    {
     "name": "stdout",
     "output_type": "stream",
     "text": [
      "Logistic Regression:  0.31759656652360513\n",
      "KNN:  0.2927927927927928\n",
      "Decision Tree:  0.2694610778443114\n",
      "Random Forest:  0.25217391304347825\n",
      "SVC:  0.3140096618357488\n"
     ]
    }
   ],
   "source": [
    "print('Logistic Regression: ', precision_score(y_test, lr.predict(x_test)))\n",
    "print('KNN: ', precision_score(y_test, knn.predict(x_test)))\n",
    "print('Decision Tree: ', precision_score(y_test, tree.predict(x_test)))\n",
    "print('Random Forest: ', precision_score(y_test, clf.predict(x_test)))\n",
    "print('SVC: ', precision_score(y_test, svc.predict(x_test)))"
   ]
  },
  {
   "cell_type": "markdown",
   "metadata": {},
   "source": [
    "#### F1"
   ]
  },
  {
   "cell_type": "code",
   "execution_count": 44,
   "metadata": {},
   "outputs": [
    {
     "name": "stdout",
     "output_type": "stream",
     "text": [
      "Logistic Regression:  0.4289855072463768\n",
      "KNN:  0.38922155688622756\n",
      "Decision Tree:  0.3225806451612903\n",
      "Random Forest:  0.3391812865497076\n",
      "SVC:  0.40752351097178685\n"
     ]
    }
   ],
   "source": [
    "print('Logistic Regression: ', f1_score(y_test, lr.predict(x_test)))\n",
    "print('KNN: ', f1_score(y_test, knn.predict(x_test)))\n",
    "print('Decision Tree: ', f1_score(y_test, tree.predict(x_test)))\n",
    "print('Random Forest: ', f1_score(y_test, clf.predict(x_test)))\n",
    "print('SVC: ', f1_score(y_test, svc.predict(x_test)))"
   ]
  },
  {
   "cell_type": "markdown",
   "metadata": {},
   "source": [
    "#### Confusion Matrix"
   ]
  },
  {
   "cell_type": "code",
   "execution_count": 45,
   "metadata": {},
   "outputs": [
    {
     "name": "stdout",
     "output_type": "stream",
     "text": [
      "Logistic Regression:  [[461 159]\n",
      " [ 38  74]]\n",
      "---------\n",
      "KNN:  [[463 157]\n",
      " [ 47  65]]\n",
      "---------\n",
      "Decision Tree:  [[498 122]\n",
      " [ 67  45]]\n",
      "---------\n",
      "Random Forest:  [[448 172]\n",
      " [ 54  58]]\n",
      "---------\n",
      "SVC:  [[478 142]\n",
      " [ 47  65]]\n"
     ]
    }
   ],
   "source": [
    "print('Logistic Regression: ', confusion_matrix(y_test, lr.predict(x_test)))\n",
    "print('---------')\n",
    "print('KNN: ', confusion_matrix(y_test, knn.predict(x_test)))\n",
    "print('---------')\n",
    "print('Decision Tree: ', confusion_matrix(y_test, tree.predict(x_test)))\n",
    "print('---------')\n",
    "print('Random Forest: ', confusion_matrix(y_test, clf.predict(x_test)))\n",
    "print('---------')\n",
    "print('SVC: ', confusion_matrix(y_test, svc.predict(x_test)))"
   ]
  },
  {
   "cell_type": "code",
   "execution_count": 36,
   "metadata": {},
   "outputs": [
    {
     "name": "stdout",
     "output_type": "stream",
     "text": [
      "With 0.1 threshold the Confusion Matrix is  \n",
      " [[  1 619]\n",
      " [  1 111]] \n",
      " with 112 correct predictions and 1 False Negatives \n",
      "\n",
      " Recall:  0.9910714285714286 \n",
      " Precision:  0.15205479452054796 \n",
      " AUC is : 0.4963421658986175 \n",
      " Accuracy is : 0.15300546448087432 \n",
      "\n",
      "\n",
      "\n",
      "With 0.2 threshold the Confusion Matrix is  \n",
      " [[ 80 540]\n",
      " [  4 108]] \n",
      " with 188 correct predictions and 4 False Negatives \n",
      "\n",
      " Recall:  0.9642857142857143 \n",
      " Precision:  0.16666666666666666 \n",
      " AUC is : 0.5466589861751152 \n",
      " Accuracy is : 0.2568306010928962 \n",
      "\n",
      "\n",
      "\n",
      "With 0.3 threshold the Confusion Matrix is  \n",
      " [[196 424]\n",
      " [ 10 102]] \n",
      " with 298 correct predictions and 10 False Negatives \n",
      "\n",
      " Recall:  0.9107142857142857 \n",
      " Precision:  0.19391634980988592 \n",
      " AUC is : 0.6134216589861751 \n",
      " Accuracy is : 0.40710382513661203 \n",
      "\n",
      "\n",
      "\n",
      "With 0.4 threshold the Confusion Matrix is  \n",
      " [[317 303]\n",
      " [ 20  92]] \n",
      " with 409 correct predictions and 20 False Negatives \n",
      "\n",
      " Recall:  0.8214285714285714 \n",
      " Precision:  0.23291139240506328 \n",
      " AUC is : 0.6663594470046083 \n",
      " Accuracy is : 0.5587431693989071 \n",
      "\n",
      "\n",
      "\n",
      "With 0.5 threshold the Confusion Matrix is  \n",
      " [[427 193]\n",
      " [ 37  75]] \n",
      " with 502 correct predictions and 37 False Negatives \n",
      "\n",
      " Recall:  0.6696428571428571 \n",
      " Precision:  0.2798507462686567 \n",
      " AUC is : 0.679176267281106 \n",
      " Accuracy is : 0.6857923497267759 \n",
      "\n",
      "\n",
      "\n"
     ]
    }
   ],
   "source": [
    "for i in range(1,6):\n",
    "    cm2=0\n",
    "    y_pred_prob_yes=lr.predict_proba(x_test)\n",
    "    y_pred2=binarize(y_pred_prob_yes,i/10)[:,1]\n",
    "    cm2=confusion_matrix(y_test,y_pred2)\n",
    "    print ('With',i/10,'threshold the Confusion Matrix is ','\\n',cm2,'\\n',\n",
    "            'with',cm2[0,0]+cm2[1,1],'correct predictions and',cm2[1,0],\n",
    "           'False Negatives','\\n\\n',\n",
    "          'Recall: ',recall_score(y_test, y_pred2),'\\n', \n",
    "           'Precision: ',\n",
    "           precision_score(y_test, y_pred2), '\\n', 'AUC is :', roc_auc_score(y_test, y_pred2), '\\n',\n",
    "           'Accuracy is :', accuracy_score(y_test, y_pred2),'\\n\\n\\n')"
   ]
  },
  {
   "cell_type": "markdown",
   "metadata": {},
   "source": [
    "## Conclusion\n",
    "\n",
    "Logistic regression had the highest recall score of 66.9% with the upsampled data. The recall score can be improved by introducing class-weight parameter in the Logistic Regression Model."
   ]
  },
  {
   "cell_type": "code",
   "execution_count": null,
   "metadata": {},
   "outputs": [],
   "source": []
  }
 ],
 "metadata": {
  "kernelspec": {
   "display_name": "Python 3",
   "language": "python",
   "name": "python3"
  },
  "language_info": {
   "codemirror_mode": {
    "name": "ipython",
    "version": 3
   },
   "file_extension": ".py",
   "mimetype": "text/x-python",
   "name": "python",
   "nbconvert_exporter": "python",
   "pygments_lexer": "ipython3",
   "version": "3.7.3"
  }
 },
 "nbformat": 4,
 "nbformat_minor": 2
}
